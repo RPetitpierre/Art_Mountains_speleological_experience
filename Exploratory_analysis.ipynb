{
 "cells": [
  {
   "cell_type": "code",
   "execution_count": 5,
   "metadata": {},
   "outputs": [],
   "source": [
    "import os\n",
    "import json\n",
    "import pandas as pd\n",
    "import numpy as np\n",
    "from io import StringIO\n",
    "\n",
    "import seaborn as sns\n",
    "import matplotlib.pyplot as plt\n",
    "\n",
    "# Silence warnings\n",
    "import warnings\n",
    "warnings.filterwarnings(\"ignore\")\n",
    "pd.options.mode.chained_assignment = None"
   ]
  },
  {
   "cell_type": "code",
   "execution_count": null,
   "metadata": {},
   "outputs": [],
   "source": [
    "df = pd.DataFrame.from_dict(dictionary)"
   ]
  },
  {
   "cell_type": "code",
   "execution_count": null,
   "metadata": {},
   "outputs": [],
   "source": [
    "df.head(1)"
   ]
  },
  {
   "cell_type": "code",
   "execution_count": null,
   "metadata": {},
   "outputs": [],
   "source": [
    "len(df)"
   ]
  },
  {
   "cell_type": "code",
   "execution_count": 6,
   "metadata": {},
   "outputs": [],
   "source": [
    "df.to_json('data/full_dataset.json')"
   ]
  },
  {
   "cell_type": "markdown",
   "metadata": {},
   "source": [
    "# Exporatory analysis"
   ]
  },
  {
   "cell_type": "code",
   "execution_count": 7,
   "metadata": {},
   "outputs": [
    {
     "data": {
      "text/html": [
       "<div>\n",
       "<style scoped>\n",
       "    .dataframe tbody tr th:only-of-type {\n",
       "        vertical-align: middle;\n",
       "    }\n",
       "\n",
       "    .dataframe tbody tr th {\n",
       "        vertical-align: top;\n",
       "    }\n",
       "\n",
       "    .dataframe thead th {\n",
       "        text-align: right;\n",
       "    }\n",
       "</style>\n",
       "<table border=\"1\" class=\"dataframe\">\n",
       "  <thead>\n",
       "    <tr style=\"text-align: right;\">\n",
       "      <th></th>\n",
       "      <th>objectID</th>\n",
       "      <th>objectBeginDate</th>\n",
       "      <th>objectEndDate</th>\n",
       "    </tr>\n",
       "  </thead>\n",
       "  <tbody>\n",
       "    <tr>\n",
       "      <th>count</th>\n",
       "      <td>488051.000000</td>\n",
       "      <td>488051.000000</td>\n",
       "      <td>488051.000000</td>\n",
       "    </tr>\n",
       "    <tr>\n",
       "      <th>mean</th>\n",
       "      <td>386258.035373</td>\n",
       "      <td>1306.404558</td>\n",
       "      <td>1405.852587</td>\n",
       "    </tr>\n",
       "    <tr>\n",
       "      <th>std</th>\n",
       "      <td>230617.988458</td>\n",
       "      <td>1662.212808</td>\n",
       "      <td>1155.081653</td>\n",
       "    </tr>\n",
       "    <tr>\n",
       "      <th>min</th>\n",
       "      <td>1.000000</td>\n",
       "      <td>-400000.000000</td>\n",
       "      <td>-240000.000000</td>\n",
       "    </tr>\n",
       "    <tr>\n",
       "      <th>25%</th>\n",
       "      <td>214900.500000</td>\n",
       "      <td>1532.000000</td>\n",
       "      <td>1590.000000</td>\n",
       "    </tr>\n",
       "    <tr>\n",
       "      <th>50%</th>\n",
       "      <td>376138.000000</td>\n",
       "      <td>1800.000000</td>\n",
       "      <td>1846.000000</td>\n",
       "    </tr>\n",
       "    <tr>\n",
       "      <th>75%</th>\n",
       "      <td>563992.500000</td>\n",
       "      <td>1900.000000</td>\n",
       "      <td>1911.000000</td>\n",
       "    </tr>\n",
       "    <tr>\n",
       "      <th>max</th>\n",
       "      <td>822460.000000</td>\n",
       "      <td>5000.000000</td>\n",
       "      <td>157555.000000</td>\n",
       "    </tr>\n",
       "  </tbody>\n",
       "</table>\n",
       "</div>"
      ],
      "text/plain": [
       "            objectID  objectBeginDate  objectEndDate\n",
       "count  488051.000000    488051.000000  488051.000000\n",
       "mean   386258.035373      1306.404558    1405.852587\n",
       "std    230617.988458      1662.212808    1155.081653\n",
       "min         1.000000   -400000.000000 -240000.000000\n",
       "25%    214900.500000      1532.000000    1590.000000\n",
       "50%    376138.000000      1800.000000    1846.000000\n",
       "75%    563992.500000      1900.000000    1911.000000\n",
       "max    822460.000000      5000.000000  157555.000000"
      ]
     },
     "execution_count": 7,
     "metadata": {},
     "output_type": "execute_result"
    }
   ],
   "source": [
    "df.describe()"
   ]
  },
  {
   "cell_type": "code",
   "execution_count": 8,
   "metadata": {},
   "outputs": [
    {
     "data": {
      "text/plain": [
       "488795"
      ]
     },
     "execution_count": 8,
     "metadata": {},
     "output_type": "execute_result"
    }
   ],
   "source": [
    "len(df)"
   ]
  },
  {
   "cell_type": "code",
   "execution_count": 9,
   "metadata": {},
   "outputs": [
    {
     "data": {
      "text/plain": [
       "Index(['objectID', 'isHighlight', 'accessionNumber', 'isPublicDomain',\n",
       "       'primaryImage', 'primaryImageSmall', 'additionalImages', 'constituents',\n",
       "       'department', 'objectName', 'title', 'culture', 'period', 'dynasty',\n",
       "       'reign', 'portfolio', 'artistRole', 'artistPrefix', 'artistDisplayName',\n",
       "       'artistDisplayBio', 'artistSuffix', 'artistAlphaSort',\n",
       "       'artistNationality', 'artistBeginDate', 'artistEndDate', 'objectDate',\n",
       "       'objectBeginDate', 'objectEndDate', 'medium', 'dimensions',\n",
       "       'creditLine', 'geographyType', 'city', 'state', 'county', 'country',\n",
       "       'region', 'subregion', 'locale', 'locus', 'excavation', 'river',\n",
       "       'classification', 'rightsAndReproduction', 'linkResource',\n",
       "       'metadataDate', 'repository', 'objectURL', 'tags'],\n",
       "      dtype='object')"
      ]
     },
     "execution_count": 9,
     "metadata": {},
     "output_type": "execute_result"
    }
   ],
   "source": [
    "df.columns"
   ]
  },
  {
   "cell_type": "code",
   "execution_count": 10,
   "metadata": {},
   "outputs": [],
   "source": [
    "def explain_data(df_, feature):\n",
    "    \n",
    "    print('===', feature.capitalize(), '===')\n",
    "    counts = df_[feature].value_counts()\n",
    "    print('Total informed : ' + str(100*(len(df_) - counts[''])/len(df_))[:5] + '%')\n",
    "    print('Top values :')\n",
    "    print(counts[counts > 1000][1:])\n",
    "    print(str(len(counts[counts > 100])-1) + ' have more than 100. From that, ' + str(len(counts[counts > 1000])-1),\n",
    "          'have more than 1000.')\n",
    "    print('')"
   ]
  },
  {
   "cell_type": "code",
   "execution_count": 11,
   "metadata": {
    "scrolled": true
   },
   "outputs": [
    {
     "name": "stdout",
     "output_type": "stream",
     "text": [
      "=== Country ===\n",
      "Total informed : 20.78%\n",
      "Top values :\n",
      "Egypt              30355\n",
      "United States       9311\n",
      "France              7991\n",
      "Iran                6526\n",
      "Japan               5469\n",
      "Germany             3984\n",
      "Italy               3517\n",
      "Peru                3510\n",
      "England             3094\n",
      "India               2167\n",
      "Mexico              2051\n",
      "Indonesia           1732\n",
      "Byzantine Egypt     1673\n",
      "China               1186\n",
      "Turkey              1016\n",
      "Name: country, dtype: int64\n",
      "50 have more than 100. From that, 15 have more than 1000.\n",
      "\n",
      "=== City ===\n",
      "Total informed : 7.042%\n",
      "Top values :\n",
      "Paris       4877\n",
      "Nishapur    3965\n",
      "New York    2429\n",
      "London      2382\n",
      "Name: city, dtype: int64\n",
      "42 have more than 100. From that, 4 have more than 1000.\n",
      "\n",
      "=== Region ===\n",
      "Total informed : 8.144%\n",
      "Top values :\n",
      "Upper Egypt, Thebes    11356\n",
      "Memphite Region         4690\n",
      "Mid-Atlantic            4363\n",
      "New England             2054\n",
      "Mesopotamia             1992\n",
      "Iran                    1750\n",
      "Mesoamerica             1279\n",
      "Middle Egypt            1166\n",
      "Name: region, dtype: int64\n",
      "35 have more than 100. From that, 8 have more than 1000.\n",
      "\n",
      "=== Subregion ===\n",
      "Total informed : 4.644%\n",
      "Top values :\n",
      "Deir el-Bahri      3055\n",
      "Lisht North        3030\n",
      "Malqata            2472\n",
      "Asasif             1506\n",
      "Southern Asasif    1332\n",
      "Name: subregion, dtype: int64\n",
      "26 have more than 100. From that, 5 have more than 1000.\n",
      "\n",
      "=== Culture ===\n",
      "Total informed : 33.80%\n",
      "Top values :\n",
      "American                27688\n",
      "Greek, Attic            17312\n",
      "Japan                   16672\n",
      "China                   13812\n",
      "French                  10270\n",
      "Japanese                 5917\n",
      "Roman                    4876\n",
      "British                  2967\n",
      "Italian                  2938\n",
      "Cypriot                  2895\n",
      "German                   2178\n",
      "American or European     2140\n",
      "Coptic                   1673\n",
      "European                 1524\n",
      "Etruscan                 1225\n",
      "Greek                    1213\n",
      "Iran                     1088\n",
      "Name: culture, dtype: int64\n",
      "103 have more than 100. From that, 17 have more than 1000.\n",
      "\n",
      "=== Artistnationality ===\n",
      "Total informed : 38.70%\n",
      "Top values :\n",
      "American                  70004\n",
      "French                    35904\n",
      "Italian                   21144\n",
      "British                   14335\n",
      "German                     9795\n",
      "Japanese                   6567\n",
      "Netherlandish              4550\n",
      "Dutch                      3175\n",
      "Chinese                    2154\n",
      "Spanish                    1738\n",
      "Austrian                   1655\n",
      "British, Scottish          1347\n",
      "American, born Germany     1234\n",
      "Bohemian                   1143\n",
      "Name: artistNationality, dtype: int64\n",
      "53 have more than 100. From that, 14 have more than 1000.\n",
      "\n",
      "=== Classification ===\n",
      "Total informed : 88.04%\n",
      "Top values :\n",
      "                          58428\n",
      "Photographs               41664\n",
      "Drawings                  30099\n",
      "Vases                     21331\n",
      "Books                     20655\n",
      "Ceramics                  13981\n",
      "Paintings                 11643\n",
      "Textiles-Woven            11073\n",
      "Glass                      8868\n",
      "Negatives                  6154\n",
      "Textiles-Laces             4976\n",
      "Sculpture                  4820\n",
      "Textiles-Embroidered       4177\n",
      "Ceramics-Porcelain         4063\n",
      "Metalwork-Silver           3788\n",
      "Ceramics-Pottery           3319\n",
      "Textiles                   3252\n",
      "Textiles-Printed           2562\n",
      "Jewelry                    2523\n",
      "Metal                      2392\n",
      "Metalwork                  2391\n",
      "Albums                     2335\n",
      "Gold and Silver            1952\n",
      "Textiles-Trimmings         1950\n",
      "Metal-Ornaments            1898\n",
      "Furniture                  1869\n",
      "Bronzes                    1806\n",
      "Terracottas                1770\n",
      "Stucco                     1752\n",
      "Wood-Sculpture             1676\n",
      "Gems                       1616\n",
      "Jade                       1611\n",
      "Medals and Plaquettes      1560\n",
      "Textiles-Velvets           1425\n",
      "Codices                    1420\n",
      "Woodwork-Furniture         1402\n",
      "Metalwork-Iron             1214\n",
      "Sword Furniture-Tsuba      1200\n",
      "Silver                     1169\n",
      "Coins                      1136\n",
      "Sword Furniture-Kozuka     1116\n",
      "Ceramics-Containers        1099\n",
      "Swords                     1081\n",
      "Glass-Stained              1032\n",
      "Stone Sculpture            1021\n",
      "Name: classification, dtype: int64\n",
      "212 have more than 100. From that, 45 have more than 1000.\n",
      "\n"
     ]
    }
   ],
   "source": [
    "features = ['country', 'city', 'region', 'subregion', 'culture', 'artistNationality', 'classification']\n",
    "\n",
    "for feature in features:\n",
    "    explain_data(df, feature)"
   ]
  },
  {
   "cell_type": "code",
   "execution_count": 12,
   "metadata": {},
   "outputs": [
    {
     "name": "stdout",
     "output_type": "stream",
     "text": [
      "=== Country ===\n",
      "Total informed : 1.803%\n",
      "Top values :\n",
      "Series([], Name: country, dtype: int64)\n",
      "0 have more than 100. From that, 0 have more than 1000.\n",
      "\n",
      "=== City ===\n",
      "Total informed : 0.283%\n",
      "Top values :\n",
      "Series([], Name: city, dtype: int64)\n",
      "0 have more than 100. From that, 0 have more than 1000.\n",
      "\n",
      "=== Region ===\n",
      "Total informed : 0.180%\n",
      "Top values :\n",
      "Series([], Name: region, dtype: int64)\n",
      "0 have more than 100. From that, 0 have more than 1000.\n",
      "\n",
      "=== Culture ===\n",
      "Total informed : 55.61%\n",
      "Top values :\n",
      "China       2042\n",
      "American    1943\n",
      "Japan       1269\n",
      "Name: culture, dtype: int64\n",
      "4 have more than 100. From that, 3 have more than 1000.\n",
      "\n"
     ]
    }
   ],
   "source": [
    "features = ['country', 'city', 'region', 'culture']\n",
    "\n",
    "for feature in features:\n",
    "    explain_data(df[df['classification'] == 'Paintings'], feature)"
   ]
  },
  {
   "cell_type": "code",
   "execution_count": 13,
   "metadata": {},
   "outputs": [
    {
     "data": {
      "text/plain": [
       "488795"
      ]
     },
     "execution_count": 13,
     "metadata": {},
     "output_type": "execute_result"
    }
   ],
   "source": [
    "len(df)"
   ]
  },
  {
   "cell_type": "code",
   "execution_count": 14,
   "metadata": {},
   "outputs": [
    {
     "data": {
      "text/plain": [
       "Index(['objectID', 'isHighlight', 'accessionNumber', 'isPublicDomain',\n",
       "       'primaryImage', 'primaryImageSmall', 'additionalImages', 'constituents',\n",
       "       'department', 'objectName', 'title', 'culture', 'period', 'dynasty',\n",
       "       'reign', 'portfolio', 'artistRole', 'artistPrefix', 'artistDisplayName',\n",
       "       'artistDisplayBio', 'artistSuffix', 'artistAlphaSort',\n",
       "       'artistNationality', 'artistBeginDate', 'artistEndDate', 'objectDate',\n",
       "       'objectBeginDate', 'objectEndDate', 'medium', 'dimensions',\n",
       "       'creditLine', 'geographyType', 'city', 'state', 'county', 'country',\n",
       "       'region', 'subregion', 'locale', 'locus', 'excavation', 'river',\n",
       "       'classification', 'rightsAndReproduction', 'linkResource',\n",
       "       'metadataDate', 'repository', 'objectURL', 'tags'],\n",
       "      dtype='object')"
      ]
     },
     "execution_count": 14,
     "metadata": {},
     "output_type": "execute_result"
    }
   ],
   "source": [
    "df.columns"
   ]
  },
  {
   "cell_type": "code",
   "execution_count": 15,
   "metadata": {},
   "outputs": [
    {
     "data": {
      "text/plain": [
       "Prints                                          124708\n",
       "                                                 58428\n",
       "Photographs                                      41664\n",
       "Drawings                                         30099\n",
       "Vases                                            21331\n",
       "Books                                            20655\n",
       "Ceramics                                         13981\n",
       "Paintings                                        11643\n",
       "Textiles-Woven                                   11073\n",
       "Glass                                             8868\n",
       "Negatives                                         6154\n",
       "Textiles-Laces                                    4976\n",
       "Sculpture                                         4820\n",
       "Textiles-Embroidered                              4177\n",
       "Ceramics-Porcelain                                4063\n",
       "Metalwork-Silver                                  3788\n",
       "Ceramics-Pottery                                  3319\n",
       "Textiles                                          3252\n",
       "Textiles-Printed                                  2562\n",
       "Jewelry                                           2523\n",
       "Metal                                             2392\n",
       "Metalwork                                         2391\n",
       "Albums                                            2335\n",
       "Gold and Silver                                   1952\n",
       "Textiles-Trimmings                                1950\n",
       "Metal-Ornaments                                   1898\n",
       "Furniture                                         1869\n",
       "Bronzes                                           1806\n",
       "Terracottas                                       1770\n",
       "Stucco                                            1752\n",
       "                                                 ...  \n",
       "Beads-Furniture                                      1\n",
       "Metalwork-Forgeries                                  1\n",
       "Chordophone-Accessories-beater                       1\n",
       "Underwear                                            1\n",
       "Reproductions-Textiles                               1\n",
       "sealings                                             1\n",
       "Lapidary Work-Serpentine                             1\n",
       "Reproductions-Textiles-Tapestries                    1\n",
       "Horn-Ornaments                                       1\n",
       "Armor Parts-Taces                                    1\n",
       "Gesso                                                1\n",
       "Miscellaneous-Banners                                1\n",
       "Metalwork-Equestrian-Inscribed                       1\n",
       "Textiles-Embroidered-Painted and Printed             1\n",
       "Outerwear-Unisex                                     1\n",
       "paintings: facsimiles                                1\n",
       "Firearms-Guns-Air                                    1\n",
       "Lapidary Work-Hematite                               1\n",
       "sculptors' models/votives, Late Period               1\n",
       "Paintings-Icons                                      1\n",
       "Armor Parts-Linings                                  1\n",
       "Hide                                                 1\n",
       "writing and painting implements and supplies         1\n",
       "Metalwork-Gold or Brass                              1\n",
       "Ivory                                                1\n",
       "Plaster                                              1\n",
       "Reproductions-Miscellany                             1\n",
       "Firearms-Guns-Match-Wheellock                        1\n",
       "Paper-Graphics-Inscribed                             1\n",
       "Woodwork–Miscellany                                  1\n",
       "Name: classification, Length: 789, dtype: int64"
      ]
     },
     "execution_count": 15,
     "metadata": {},
     "output_type": "execute_result"
    }
   ],
   "source": [
    "df['classification'].value_counts()"
   ]
  },
  {
   "cell_type": "code",
   "execution_count": 16,
   "metadata": {},
   "outputs": [
    {
     "ename": "NameError",
     "evalue": "name 'subset' is not defined",
     "output_type": "error",
     "traceback": [
      "\u001b[0;31m---------------------------------------------------------------------------\u001b[0m",
      "\u001b[0;31mNameError\u001b[0m                                 Traceback (most recent call last)",
      "\u001b[0;32m<ipython-input-16-a013122e5381>\u001b[0m in \u001b[0;36m<module>\u001b[0;34m()\u001b[0m\n\u001b[0;32m----> 1\u001b[0;31m \u001b[0mlen\u001b[0m\u001b[0;34m(\u001b[0m\u001b[0msubset\u001b[0m\u001b[0;34m[\u001b[0m\u001b[0msubset\u001b[0m\u001b[0;34m[\u001b[0m\u001b[0;34m'tags'\u001b[0m\u001b[0;34m]\u001b[0m\u001b[0;34m.\u001b[0m\u001b[0mastype\u001b[0m\u001b[0;34m(\u001b[0m\u001b[0;34m'str'\u001b[0m\u001b[0;34m)\u001b[0m \u001b[0;34m!=\u001b[0m \u001b[0;34m'[]'\u001b[0m\u001b[0;34m]\u001b[0m\u001b[0;34m)\u001b[0m\u001b[0;34m\u001b[0m\u001b[0;34m\u001b[0m\u001b[0m\n\u001b[0m",
      "\u001b[0;31mNameError\u001b[0m: name 'subset' is not defined"
     ]
    }
   ],
   "source": [
    "len(subset[subset['tags'].astype('str') != '[]'])"
   ]
  },
  {
   "cell_type": "code",
   "execution_count": null,
   "metadata": {},
   "outputs": [],
   "source": [
    "np.sum(df[(df['classification'] == 'Paintings') | (\n",
    "    df['classification'] == 'Drawings') | (\n",
    "    df['classification'] == 'Prints') | (\n",
    "    df['classification'] == 'Photographs')]['country'].value_counts()[1:].values)"
   ]
  },
  {
   "cell_type": "code",
   "execution_count": null,
   "metadata": {},
   "outputs": [],
   "source": [
    "np.sum(df[(df['classification'] == 'Paintings') | (\n",
    "    df['classification'] == 'Drawings') | (\n",
    "    df['classification'] == 'Prints') | (\n",
    "    df['classification'] == 'Photographs')]['culture'].value_counts()[1:].values)"
   ]
  },
  {
   "cell_type": "code",
   "execution_count": null,
   "metadata": {},
   "outputs": [],
   "source": [
    "np.sum(df[(df['classification'] == 'Paintings') | (\n",
    "    df['classification'] == 'Drawings') | (\n",
    "    df['classification'] == 'Prints') | (\n",
    "    df['classification'] == 'Photographs')]['city'].value_counts()[1:].values)"
   ]
  },
  {
   "cell_type": "code",
   "execution_count": null,
   "metadata": {},
   "outputs": [],
   "source": [
    "ind = 0\n",
    "list_ = ['Prints', 'Photographs']\n",
    "for \n",
    "df[]"
   ]
  },
  {
   "cell_type": "code",
   "execution_count": null,
   "metadata": {},
   "outputs": [],
   "source": [
    "subset = df[(df['classification'] == 'Paintings') | (\n",
    "        df['classification'] == 'Drawings') | (\n",
    "        df['classification'] == 'Prints') | (\n",
    "        df['classification'] == 'Photographs')]"
   ]
  },
  {
   "cell_type": "code",
   "execution_count": null,
   "metadata": {},
   "outputs": [],
   "source": [
    "subset = df[(df['classification'] == 'Paintings') | (\n",
    "        df['classification'] == 'Drawings') | (\n",
    "        df['classification'] == 'Photographs')]"
   ]
  },
  {
   "cell_type": "code",
   "execution_count": null,
   "metadata": {},
   "outputs": [],
   "source": [
    "len(df[(df['classification'] == 'Paintings')])"
   ]
  },
  {
   "cell_type": "code",
   "execution_count": null,
   "metadata": {},
   "outputs": [],
   "source": [
    "len(subset)"
   ]
  },
  {
   "cell_type": "code",
   "execution_count": null,
   "metadata": {},
   "outputs": [],
   "source": [
    "subset['objectDate'].value_counts()"
   ]
  },
  {
   "cell_type": "code",
   "execution_count": null,
   "metadata": {},
   "outputs": [],
   "source": [
    "ind_ = []\n",
    "\n",
    "for ind, row in subset.iterrows():\n",
    "    if (row['country'] != '') or (row['city'] != '') or (row['culture'] != '') or (\n",
    "        row['state'] != '') or (row['region'] != '') or (row['subregion'] != ''):\n",
    "        ind_.append(ind)"
   ]
  },
  {
   "cell_type": "code",
   "execution_count": null,
   "metadata": {},
   "outputs": [],
   "source": [
    "len(ind_)"
   ]
  },
  {
   "cell_type": "code",
   "execution_count": null,
   "metadata": {},
   "outputs": [],
   "source": [
    "subset_loc = subset.loc[ind_]"
   ]
  },
  {
   "cell_type": "code",
   "execution_count": null,
   "metadata": {
    "scrolled": false
   },
   "outputs": [],
   "source": [
    "subset_loc['city'].value_counts()"
   ]
  },
  {
   "cell_type": "code",
   "execution_count": null,
   "metadata": {},
   "outputs": [],
   "source": [
    "print(separators)"
   ]
  },
  {
   "cell_type": "code",
   "execution_count": null,
   "metadata": {},
   "outputs": [],
   "source": []
  },
  {
   "cell_type": "code",
   "execution_count": null,
   "metadata": {},
   "outputs": [],
   "source": []
  }
 ],
 "metadata": {
  "kernelspec": {
   "display_name": "Python 3",
   "language": "python",
   "name": "python3"
  },
  "language_info": {
   "codemirror_mode": {
    "name": "ipython",
    "version": 3
   },
   "file_extension": ".py",
   "mimetype": "text/x-python",
   "name": "python",
   "nbconvert_exporter": "python",
   "pygments_lexer": "ipython3",
   "version": "3.6.7"
  }
 },
 "nbformat": 4,
 "nbformat_minor": 2
}
