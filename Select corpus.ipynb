{
 "cells": [
  {
   "cell_type": "code",
   "execution_count": 4,
   "metadata": {},
   "outputs": [],
   "source": [
    "import pandas as pd\n",
    "import numpy as np\n",
    "import json\n",
    "import os\n",
    "import re"
   ]
  },
  {
   "cell_type": "code",
   "execution_count": 2,
   "metadata": {
    "collapsed": true
   },
   "outputs": [
    {
     "ename": "KeyboardInterrupt",
     "evalue": "",
     "output_type": "error",
     "traceback": [
      "\u001b[0;31m---------------------------------------------------------------------------\u001b[0m",
      "\u001b[0;31mKeyboardInterrupt\u001b[0m                         Traceback (most recent call last)",
      "\u001b[0;32m<ipython-input-2-0183a07acee4>\u001b[0m in \u001b[0;36m<module>\u001b[0;34m()\u001b[0m\n\u001b[1;32m     10\u001b[0m \u001b[0;34m\u001b[0m\u001b[0m\n\u001b[1;32m     11\u001b[0m                 \u001b[0mf\u001b[0m \u001b[0;34m=\u001b[0m \u001b[0mopen\u001b[0m\u001b[0;34m(\u001b[0m\u001b[0mDATA\u001b[0m \u001b[0;34m+\u001b[0m \u001b[0;34m'/'\u001b[0m \u001b[0;34m+\u001b[0m \u001b[0mfolder\u001b[0m \u001b[0;34m+\u001b[0m \u001b[0;34m'/'\u001b[0m \u001b[0;34m+\u001b[0m \u001b[0mfile\u001b[0m\u001b[0;34m,\u001b[0m \u001b[0;34m'r'\u001b[0m\u001b[0;34m)\u001b[0m\u001b[0;34m\u001b[0m\u001b[0;34m\u001b[0m\u001b[0m\n\u001b[0;32m---> 12\u001b[0;31m                 \u001b[0mtext\u001b[0m \u001b[0;34m=\u001b[0m \u001b[0mf\u001b[0m\u001b[0;34m.\u001b[0m\u001b[0mread\u001b[0m\u001b[0;34m(\u001b[0m\u001b[0;34m)\u001b[0m\u001b[0;34m\u001b[0m\u001b[0;34m\u001b[0m\u001b[0m\n\u001b[0m\u001b[1;32m     13\u001b[0m                 \u001b[0;32mtry\u001b[0m \u001b[0;34m:\u001b[0m\u001b[0;34m\u001b[0m\u001b[0;34m\u001b[0m\u001b[0m\n\u001b[1;32m     14\u001b[0m                     \u001b[0mtext_json\u001b[0m \u001b[0;34m=\u001b[0m \u001b[0mjson\u001b[0m\u001b[0;34m.\u001b[0m\u001b[0mloads\u001b[0m\u001b[0;34m(\u001b[0m\u001b[0mtext\u001b[0m\u001b[0;34m)\u001b[0m\u001b[0;34m\u001b[0m\u001b[0;34m\u001b[0m\u001b[0m\n",
      "\u001b[0;32m/anaconda3/lib/python3.6/codecs.py\u001b[0m in \u001b[0;36mdecode\u001b[0;34m(self, input, final)\u001b[0m\n\u001b[1;32m    316\u001b[0m         \u001b[0;32mraise\u001b[0m \u001b[0mNotImplementedError\u001b[0m\u001b[0;34m\u001b[0m\u001b[0;34m\u001b[0m\u001b[0m\n\u001b[1;32m    317\u001b[0m \u001b[0;34m\u001b[0m\u001b[0m\n\u001b[0;32m--> 318\u001b[0;31m     \u001b[0;32mdef\u001b[0m \u001b[0mdecode\u001b[0m\u001b[0;34m(\u001b[0m\u001b[0mself\u001b[0m\u001b[0;34m,\u001b[0m \u001b[0minput\u001b[0m\u001b[0;34m,\u001b[0m \u001b[0mfinal\u001b[0m\u001b[0;34m=\u001b[0m\u001b[0;32mFalse\u001b[0m\u001b[0;34m)\u001b[0m\u001b[0;34m:\u001b[0m\u001b[0;34m\u001b[0m\u001b[0;34m\u001b[0m\u001b[0m\n\u001b[0m\u001b[1;32m    319\u001b[0m         \u001b[0;31m# decode input (taking the buffer into account)\u001b[0m\u001b[0;34m\u001b[0m\u001b[0;34m\u001b[0m\u001b[0;34m\u001b[0m\u001b[0m\n\u001b[1;32m    320\u001b[0m         \u001b[0mdata\u001b[0m \u001b[0;34m=\u001b[0m \u001b[0mself\u001b[0m\u001b[0;34m.\u001b[0m\u001b[0mbuffer\u001b[0m \u001b[0;34m+\u001b[0m \u001b[0minput\u001b[0m\u001b[0;34m\u001b[0m\u001b[0;34m\u001b[0m\u001b[0m\n",
      "\u001b[0;31mKeyboardInterrupt\u001b[0m: "
     ]
    }
   ],
   "source": [
    "DATA = 'objects'\n",
    "dictionary = {}\n",
    "failure = []\n",
    "first = True\n",
    "\n",
    "for folder in os.listdir(DATA):\n",
    "    if folder[0] != '.':\n",
    "        for file in os.listdir(DATA + '/' + folder):\n",
    "            if file[0] != '.':\n",
    "                \n",
    "                f = open(DATA + '/' + folder + '/' + file, 'r')\n",
    "                text = f.read()\n",
    "                try :\n",
    "                    text_json = json.loads(text)\n",
    "                    \n",
    "                    if first:\n",
    "                        first = False\n",
    "                        keys = text_json.keys()\n",
    "                        \n",
    "                        for key in keys:\n",
    "                            dictionary[key] = []\n",
    "        \n",
    "                    for key in keys :\n",
    "                        try:\n",
    "                            dictionary[key].append(text_json[key])\n",
    "                        except:\n",
    "                            dictionary[key].append(np.nan)\n",
    "                        \n",
    "                except:\n",
    "                    failure.append(file)"
   ]
  },
  {
   "cell_type": "code",
   "execution_count": null,
   "metadata": {},
   "outputs": [],
   "source": [
    "df = pd.DataFrame.from_dict(dictionary)"
   ]
  },
  {
   "cell_type": "code",
   "execution_count": 51,
   "metadata": {},
   "outputs": [
    {
     "data": {
      "text/html": [
       "<div>\n",
       "<style scoped>\n",
       "    .dataframe tbody tr th:only-of-type {\n",
       "        vertical-align: middle;\n",
       "    }\n",
       "\n",
       "    .dataframe tbody tr th {\n",
       "        vertical-align: top;\n",
       "    }\n",
       "\n",
       "    .dataframe thead th {\n",
       "        text-align: right;\n",
       "    }\n",
       "</style>\n",
       "<table border=\"1\" class=\"dataframe\">\n",
       "  <thead>\n",
       "    <tr style=\"text-align: right;\">\n",
       "      <th></th>\n",
       "      <th>objectID</th>\n",
       "      <th>isHighlight</th>\n",
       "      <th>accessionNumber</th>\n",
       "      <th>isPublicDomain</th>\n",
       "      <th>primaryImage</th>\n",
       "      <th>primaryImageSmall</th>\n",
       "      <th>additionalImages</th>\n",
       "      <th>constituents</th>\n",
       "      <th>department</th>\n",
       "      <th>objectName</th>\n",
       "      <th>...</th>\n",
       "      <th>excavation</th>\n",
       "      <th>river</th>\n",
       "      <th>classification</th>\n",
       "      <th>rightsAndReproduction</th>\n",
       "      <th>linkResource</th>\n",
       "      <th>metadataDate</th>\n",
       "      <th>repository</th>\n",
       "      <th>objectURL</th>\n",
       "      <th>tags</th>\n",
       "      <th>time</th>\n",
       "    </tr>\n",
       "  </thead>\n",
       "  <tbody>\n",
       "    <tr>\n",
       "      <th>0</th>\n",
       "      <td>169884.0</td>\n",
       "      <td>False</td>\n",
       "      <td>2009.300.5672</td>\n",
       "      <td>True</td>\n",
       "      <td>https://images.metmuseum.org/CRDImages/ci/orig...</td>\n",
       "      <td>https://images.metmuseum.org/CRDImages/ci/web-...</td>\n",
       "      <td>[]</td>\n",
       "      <td>None</td>\n",
       "      <td>Costume Institute</td>\n",
       "      <td>Stole</td>\n",
       "      <td>...</td>\n",
       "      <td></td>\n",
       "      <td></td>\n",
       "      <td></td>\n",
       "      <td></td>\n",
       "      <td></td>\n",
       "      <td>2019-03-12T12:27:30.997Z</td>\n",
       "      <td>Metropolitan Museum of Art, New York, NY</td>\n",
       "      <td>https://www.metmuseum.org/art/collection/searc...</td>\n",
       "      <td>[]</td>\n",
       "      <td>1845.0</td>\n",
       "    </tr>\n",
       "  </tbody>\n",
       "</table>\n",
       "<p>1 rows × 50 columns</p>\n",
       "</div>"
      ],
      "text/plain": [
       "   objectID isHighlight accessionNumber isPublicDomain  \\\n",
       "0  169884.0       False   2009.300.5672           True   \n",
       "\n",
       "                                        primaryImage  \\\n",
       "0  https://images.metmuseum.org/CRDImages/ci/orig...   \n",
       "\n",
       "                                   primaryImageSmall additionalImages  \\\n",
       "0  https://images.metmuseum.org/CRDImages/ci/web-...               []   \n",
       "\n",
       "  constituents         department objectName   ...   excavation river  \\\n",
       "0         None  Costume Institute      Stole   ...                      \n",
       "\n",
       "  classification rightsAndReproduction linkResource              metadataDate  \\\n",
       "0                                                    2019-03-12T12:27:30.997Z   \n",
       "\n",
       "                                 repository  \\\n",
       "0  Metropolitan Museum of Art, New York, NY   \n",
       "\n",
       "                                           objectURL tags    time  \n",
       "0  https://www.metmuseum.org/art/collection/searc...   []  1845.0  \n",
       "\n",
       "[1 rows x 50 columns]"
      ]
     },
     "execution_count": 51,
     "metadata": {},
     "output_type": "execute_result"
    }
   ],
   "source": [
    "df.head(1)"
   ]
  },
  {
   "cell_type": "code",
   "execution_count": 29,
   "metadata": {},
   "outputs": [
    {
     "data": {
      "text/plain": [
       "491946"
      ]
     },
     "execution_count": 29,
     "metadata": {},
     "output_type": "execute_result"
    }
   ],
   "source": [
    "len(df)"
   ]
  },
  {
   "cell_type": "code",
   "execution_count": 30,
   "metadata": {},
   "outputs": [
    {
     "data": {
      "text/plain": [
       "3"
      ]
     },
     "execution_count": 30,
     "metadata": {},
     "output_type": "execute_result"
    }
   ],
   "source": [
    "len(failure)"
   ]
  },
  {
   "cell_type": "code",
   "execution_count": 32,
   "metadata": {},
   "outputs": [],
   "source": [
    "df.to_json('data/corpus.json')"
   ]
  },
  {
   "cell_type": "code",
   "execution_count": 33,
   "metadata": {},
   "outputs": [
    {
     "data": {
      "text/plain": [
       "Index(['objectID', 'isHighlight', 'accessionNumber', 'isPublicDomain',\n",
       "       'primaryImage', 'primaryImageSmall', 'additionalImages', 'constituents',\n",
       "       'department', 'objectName', 'title', 'culture', 'period', 'dynasty',\n",
       "       'reign', 'portfolio', 'artistRole', 'artistPrefix', 'artistDisplayName',\n",
       "       'artistDisplayBio', 'artistSuffix', 'artistAlphaSort',\n",
       "       'artistNationality', 'artistBeginDate', 'artistEndDate', 'objectDate',\n",
       "       'objectBeginDate', 'objectEndDate', 'medium', 'dimensions',\n",
       "       'creditLine', 'geographyType', 'city', 'state', 'county', 'country',\n",
       "       'region', 'subregion', 'locale', 'locus', 'excavation', 'river',\n",
       "       'classification', 'rightsAndReproduction', 'linkResource',\n",
       "       'metadataDate', 'repository', 'objectURL', 'tags'],\n",
       "      dtype='object')"
      ]
     },
     "execution_count": 33,
     "metadata": {},
     "output_type": "execute_result"
    }
   ],
   "source": [
    "df.columns"
   ]
  },
  {
   "cell_type": "markdown",
   "metadata": {},
   "source": [
    "# Get time dimension"
   ]
  },
  {
   "cell_type": "code",
   "execution_count": 34,
   "metadata": {},
   "outputs": [],
   "source": [
    "time = []\n",
    "\n",
    "for ind, row in df.iterrows():\n",
    "    \n",
    "    if (row['objectBeginDate'] != np.nan) & (row['objectEndDate'] != np.nan):\n",
    "        time.append(np.mean([row['objectBeginDate'], row['objectEndDate']]))\n",
    "    elif (row['objectBeginDate'] != np.nan):\n",
    "        time.append(row['objectBeginDate'])\n",
    "    elif (row['objectEndDate'] != np.nan):\n",
    "        time.append(row['objectEndDate'])\n",
    "    else:\n",
    "        time.append(np.nan)"
   ]
  },
  {
   "cell_type": "code",
   "execution_count": 35,
   "metadata": {},
   "outputs": [],
   "source": [
    "df['time'] = time"
   ]
  },
  {
   "cell_type": "code",
   "execution_count": 36,
   "metadata": {
    "collapsed": true
   },
   "outputs": [
    {
     "data": {
      "text/plain": [
       " 1849.5    12426\n",
       " 1749.5     8457\n",
       " 1888.0     6841\n",
       " 1900.0     6095\n",
       "-475.0      5602\n",
       " 1910.0     5291\n",
       " 1890.0     4881\n",
       " 1850.0     4736\n",
       " 1799.5     4036\n",
       " 1889.0     3978\n",
       " 1649.5     3578\n",
       " 1950.0     2936\n",
       " 1935.0     2893\n",
       " 1745.0     2756\n",
       " 1925.0     2659\n",
       " 1939.0     2639\n",
       "-1390.0     2634\n",
       " 1884.5     2621\n",
       " 1887.0     2600\n",
       "-415.0      2572\n",
       " 1875.0     2550\n",
       " 1549.5     2548\n",
       " 1750.0     2440\n",
       "-490.0      2351\n",
       " 1860.0     2306\n",
       " 1850.5     2305\n",
       " 0.0        2204\n",
       "-500.0      2188\n",
       " 1933.0     2167\n",
       " 1800.0     2011\n",
       "           ...  \n",
       " 174.0         1\n",
       " 1241.0        1\n",
       " 1240.5        1\n",
       " 981.5         1\n",
       " 343.0         1\n",
       "-1555.0        1\n",
       " 342.0         1\n",
       " 530.0         1\n",
       " 1238.5        1\n",
       " 41.5          1\n",
       " 1413.0        1\n",
       "-1062.5        1\n",
       " 692.0         1\n",
       "-618.5         1\n",
       "-309.0         1\n",
       "-2462.5        1\n",
       " 1392.5        1\n",
       " 696.5         1\n",
       " 609.0         1\n",
       "-199.0         1\n",
       "-48.5          1\n",
       " 938.0         1\n",
       "-2686.0        1\n",
       " 387.5         1\n",
       " 1394.0        1\n",
       " 958.0         1\n",
       " 701.5         1\n",
       " 1394.5        1\n",
       "-1763.0        1\n",
       "-322.0         1\n",
       "Name: time, Length: 3791, dtype: int64"
      ]
     },
     "execution_count": 36,
     "metadata": {},
     "output_type": "execute_result"
    }
   ],
   "source": [
    "df['time'].value_counts()"
   ]
  },
  {
   "cell_type": "code",
   "execution_count": 42,
   "metadata": {},
   "outputs": [],
   "source": [
    "df = df.dropna(subset = ['time'])"
   ]
  },
  {
   "cell_type": "code",
   "execution_count": null,
   "metadata": {},
   "outputs": [],
   "source": [
    "df = df[~df['time'].isna()]"
   ]
  },
  {
   "cell_type": "code",
   "execution_count": 43,
   "metadata": {},
   "outputs": [
    {
     "data": {
      "text/plain": [
       "491202"
      ]
     },
     "execution_count": 43,
     "metadata": {},
     "output_type": "execute_result"
    }
   ],
   "source": [
    "len(df)"
   ]
  },
  {
   "cell_type": "code",
   "execution_count": 44,
   "metadata": {},
   "outputs": [],
   "source": [
    "df.to_json('data/corpus.json')"
   ]
  },
  {
   "cell_type": "markdown",
   "metadata": {},
   "source": [
    "# Tags"
   ]
  },
  {
   "cell_type": "code",
   "execution_count": 55,
   "metadata": {
    "collapsed": true
   },
   "outputs": [
    {
     "data": {
      "text/plain": [
       "Prints                                                124803\n",
       "                                                       59621\n",
       "Photographs                                            41682\n",
       "Drawings                                               30221\n",
       "Vases                                                  21331\n",
       "Books                                                  20667\n",
       "Ceramics                                               14023\n",
       "Paintings                                              11697\n",
       "Textiles-Woven                                         11075\n",
       "Glass                                                   8971\n",
       "Negatives                                               6155\n",
       "Textiles-Laces                                          4978\n",
       "Sculpture                                               4846\n",
       "Ceramics-Porcelain                                      4323\n",
       "Textiles-Embroidered                                    4178\n",
       "Metalwork-Silver                                        4000\n",
       "Ceramics-Pottery                                        3556\n",
       "Textiles                                                3252\n",
       "Textiles-Printed                                        2562\n",
       "Jewelry                                                 2524\n",
       "Metal                                                   2393\n",
       "Metalwork                                               2391\n",
       "Albums                                                  2335\n",
       "Gold and Silver                                         1952\n",
       "Textiles-Trimmings                                      1950\n",
       "Metal-Ornaments                                         1898\n",
       "Furniture                                               1869\n",
       "Bronzes                                                 1806\n",
       "Terracottas                                             1770\n",
       "Stucco                                                  1752\n",
       "                                                       ...  \n",
       "Glass-Stamp Seals-Inscribed                                1\n",
       "Metalwork-Architectural                                    1\n",
       "Metalwork-Forgeries                                        1\n",
       "writing and painting implements and supplies               1\n",
       "Outerwear-Unisex                                           1\n",
       "Ivory/Bone-Cylinder Seals                                  1\n",
       "Firearms-Guns-Air                                          1\n",
       "Textiles-Embroidered-Painted and Printed                   1\n",
       "Gourd-Ornaments                                            1\n",
       "Reproductions-Miscellany                                   1\n",
       "Textiles-Paintings                                         1\n",
       "Armor for Man-Modern                                       1\n",
       "Sound Recordings                                           1\n",
       "Membranophone-single-headed / trough                       1\n",
       "Firearms-Pistols-Air                                       1\n",
       "Lapidary Work-Gabbro                                       1\n",
       "Gesso                                                      1\n",
       "Textiles-Painted-Reproductions                             1\n",
       "Chordophone-Accessories-stool                              1\n",
       "Horn-Ornaments                                             1\n",
       "sculptors' models/votives, Late Period                     1\n",
       "Membranophone-single-headed / kettle drum-friction         1\n",
       "Basketry-Musical Instruments                               1\n",
       "Chordophone-Accessories-beater                             1\n",
       "Paper-Graphics-Inscribed                                   1\n",
       "Furniture-Plastic                                          1\n",
       "Ceramics-Reliefs-Inscribed                                 1\n",
       "Night and Dressing Wear                                    1\n",
       "Stone-Ostraca                                              1\n",
       "Underwear                                                  1\n",
       "Name: classification, Length: 789, dtype: int64"
      ]
     },
     "execution_count": 55,
     "metadata": {},
     "output_type": "execute_result"
    }
   ],
   "source": [
    "df['classification'].value_counts()"
   ]
  },
  {
   "cell_type": "code",
   "execution_count": 58,
   "metadata": {},
   "outputs": [],
   "source": [
    "tag_count = []\n",
    "\n",
    "for ind, item in df['tags'].iteritems():\n",
    "    tag_count.append(len(item))"
   ]
  },
  {
   "cell_type": "code",
   "execution_count": 60,
   "metadata": {},
   "outputs": [],
   "source": [
    "df['tag_count'] = tag_count"
   ]
  },
  {
   "cell_type": "code",
   "execution_count": 62,
   "metadata": {},
   "outputs": [],
   "source": [
    "df = df[(df['tag_count'] != 0) | (df['classification'] != '')]"
   ]
  },
  {
   "cell_type": "code",
   "execution_count": 63,
   "metadata": {},
   "outputs": [
    {
     "data": {
      "text/plain": [
       "457265"
      ]
     },
     "execution_count": 63,
     "metadata": {},
     "output_type": "execute_result"
    }
   ],
   "source": [
    "len(df)"
   ]
  },
  {
   "cell_type": "code",
   "execution_count": 73,
   "metadata": {},
   "outputs": [],
   "source": [
    "themes = []\n",
    "\n",
    "for ind, row in df[['tags', 'classification']].iterrows():\n",
    "    \n",
    "    theme = []\n",
    "    \n",
    "    if row['classification'] != '':\n",
    "        split = re.split('-', row['classification'])\n",
    "        for classification in split:\n",
    "            theme.append(classification)\n",
    "            \n",
    "    for tag in row['tags']:\n",
    "        theme.append(tag)\n",
    "        \n",
    "    themes.append(theme)"
   ]
  },
  {
   "cell_type": "code",
   "execution_count": 75,
   "metadata": {},
   "outputs": [],
   "source": [
    "df['themes'] = themes"
   ]
  },
  {
   "cell_type": "code",
   "execution_count": 79,
   "metadata": {},
   "outputs": [],
   "source": [
    "df.to_json('data/corpus.json')"
   ]
  },
  {
   "cell_type": "markdown",
   "metadata": {},
   "source": [
    "## Has image"
   ]
  },
  {
   "cell_type": "code",
   "execution_count": 5,
   "metadata": {},
   "outputs": [],
   "source": [
    "df = pd.read_json('data/corpus.json')"
   ]
  },
  {
   "cell_type": "code",
   "execution_count": 6,
   "metadata": {},
   "outputs": [],
   "source": [
    "df = df[df['primaryImageSmall'] != '']"
   ]
  },
  {
   "cell_type": "code",
   "execution_count": 8,
   "metadata": {},
   "outputs": [
    {
     "data": {
      "text/plain": [
       "215309"
      ]
     },
     "execution_count": 8,
     "metadata": {},
     "output_type": "execute_result"
    }
   ],
   "source": [
    "len(df)"
   ]
  },
  {
   "cell_type": "code",
   "execution_count": 7,
   "metadata": {},
   "outputs": [],
   "source": [
    "df.to_json('data/corpus.json')"
   ]
  },
  {
   "cell_type": "code",
   "execution_count": null,
   "metadata": {},
   "outputs": [],
   "source": []
  }
 ],
 "metadata": {
  "kernelspec": {
   "display_name": "Python 3",
   "language": "python",
   "name": "python3"
  },
  "language_info": {
   "codemirror_mode": {
    "name": "ipython",
    "version": 3
   },
   "file_extension": ".py",
   "mimetype": "text/x-python",
   "name": "python",
   "nbconvert_exporter": "python",
   "pygments_lexer": "ipython3",
   "version": "3.6.7"
  }
 },
 "nbformat": 4,
 "nbformat_minor": 2
}
